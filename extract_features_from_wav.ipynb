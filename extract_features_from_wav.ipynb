{
 "cells": [
  {
   "cell_type": "markdown",
   "metadata": {},
   "source": [
    "#### This is a notebook about analyzing music files"
   ]
  },
  {
   "cell_type": "code",
   "execution_count": 1,
   "metadata": {
    "collapsed": true
   },
   "outputs": [],
   "source": [
    "# Blog about analyzing music - Really good!\n",
    "# http://myinspirationinformation.com/uncategorized/audio-signals-in-python/\n",
    "# https://arxiv.org/pdf/1502.05417.pdf\n"
   ]
  },
  {
   "cell_type": "code",
   "execution_count": null,
   "metadata": {
    "collapsed": true
   },
   "outputs": [],
   "source": []
  },
  {
   "cell_type": "code",
   "execution_count": null,
   "metadata": {
    "collapsed": true
   },
   "outputs": [],
   "source": [
    "# Convert MP3 to WAV\n",
    "# Music stored as .WAV, are the audio waves stored as numbers, and MP3 files are a compressed version of the .WAV\n",
    "# source: https://stackoverflow.com/questions/3049572/how-to-convert-mp3-to-wav-in-python\n",
    "\n",
    "from pydub import AudioSegment\n",
    "\n",
    "sound = AudioSegment.from_mp3(\"/path/to/file.mp3\")\n",
    "sound.export(\"/output/path\", format = \"wav\")"
   ]
  },
  {
   "cell_type": "code",
   "execution_count": null,
   "metadata": {
    "collapsed": true
   },
   "outputs": [],
   "source": [
    "# Create Fourier transformation on the WAV file\n",
    "# source: https://stackoverflow.com/questions/23377665/python-scipy-fft-wav-files\n",
    "\n",
    "\n",
    "import matplotlib.pyplot as plt\n",
    "from scipy.fftpack import fft\n",
    "from scipy.io import wavfile # get the api\n",
    "\n",
    "fs, data = wavfile.read(\"test.wav\") # load the data\n",
    "a = data.T[0] # this is a two channel soundtrack, I get the first track\n",
    "b = [(ele / 2 ** 8.) * 2 - 1 for ele in a] # this is 8-bit track, b is now normalized on [-1,1)\n",
    "c = fft(b) # calculate fourier transform (complex numbers list)\n",
    "d = len(c) / 2  # you only need half of the fft list (real signal symmetry)\n",
    "\n",
    "plt.plot(abs(c[: (d - 1)]), \"r\") \n",
    "plt.show()\n"
   ]
  },
  {
   "cell_type": "code",
   "execution_count": null,
   "metadata": {
    "collapsed": true
   },
   "outputs": [],
   "source": []
  },
  {
   "cell_type": "code",
   "execution_count": null,
   "metadata": {
    "collapsed": true
   },
   "outputs": [],
   "source": [
    "# Extract features from WAV file\n",
    "# source: https://stackoverflow.com/questions/34742225/how-to-extract-data-from-a-wav-file-using-python-matplotlib-library\n",
    "\n",
    "\"\"\" This work is licensed under a Creative Commons Attribution 3.0 Unported License.\n",
    "Frank Zalkow, 2012-2013 \"\"\"\n",
    "\n",
    "import numpy as np\n",
    "from matplotlib import pyplot as plt\n",
    "import scipy.io.wavfile as wav\n",
    "from numpy.lib import stride_tricks\n",
    "\n",
    "\"\"\" short time fourier transform of audio signal \"\"\"\n",
    "def stft(sig, frameSize, overlapFac = 0.5, window = np.hanning):\n",
    "    win = window(frameSize)\n",
    "    hopSize = int(frameSize - np.floor(overlapFac * frameSize))\n",
    "\n",
    "    # zeros at beginning (thus center of 1st window should be for sample nr. 0)\n",
    "    samples = np.append(np.zeros(np.floor(frameSize / 2.0)), sig)    \n",
    "    # cols for windowing\n",
    "    cols = np.ceil( (len(samples) - frameSize) / float(hopSize)) + 1\n",
    "    # zeros at end (thus samples can be fully covered by frames)\n",
    "    samples = np.append(samples, np.zeros(frameSize))\n",
    "\n",
    "    frames = stride_tricks.as_strided(samples, shape = (cols, frameSize), strides = (samples.strides[0] * hopSize, samples.strides[0])).copy()\n",
    "    frames *= win\n",
    "\n",
    "    return np.fft.rfft(frames)    \n",
    "\n",
    "\n",
    "\"\"\" scale frequency axis logarithmically \"\"\"    \n",
    "def logscale_spec(spec, sr = 44100, factor = 20.):\n",
    "    timebins, freqbins = np.shape(spec)\n",
    "\n",
    "    scale = np.linspace(0, 1, freqbins) ** factor\n",
    "    scale *= (freqbins - 1) / max(scale)\n",
    "    scale = np.unique(np.round(scale))\n",
    "\n",
    "    # create spectrogram with new freq bins\n",
    "    newspec = np.complex128(np.zeros([timebins, len(scale)]))\n",
    "    for i in range(0, len(scale)):\n",
    "        if i == len(scale) - 1:\n",
    "            newspec[:,i] = np.sum(spec[:, scale[i]:], axis = 1)\n",
    "        else:        \n",
    "            newspec[:,i] = np.sum(spec[:, scale[i]:scale[i + 1]], axis = 1)\n",
    "\n",
    "    # list center freq of bins\n",
    "    allfreqs = np.abs(np.fft.fftfreq(freqbins * 2, 1. / sr)[: freqbins + 1])\n",
    "    freqs = []\n",
    "    for i in range(0, len(scale)):\n",
    "        if i == len(scale) - 1:\n",
    "            freqs += [np.mean(allfreqs[scale[i]:])]\n",
    "        else:\n",
    "            freqs += [np.mean(allfreqs[scale[i]:scale[i + 1]])]\n",
    "\n",
    "    return newspec, freqs\n",
    "\n",
    "\n",
    "\"\"\" plot spectrogram\"\"\"\n",
    "def plotstft(audiopath, binsize = 2 ** 10, plotpath = None, colormap = \"jet\"):\n",
    "    samplerate, samples = wav.read(audiopath)\n",
    "    s = stft(samples, binsize)\n",
    "\n",
    "    sshow, freq = logscale_spec(s, factor = 1.0, sr = samplerate)\n",
    "    ims = 20. * np.log10(np.abs(sshow) / 10e-6) # amplitude to decibel\n",
    "\n",
    "    timebins, freqbins = np.shape(ims)\n",
    "\n",
    "    plt.figure(figsize = (15, 7.5))\n",
    "    plt.imshow(np.transpose(ims), origin = \"lower\", aspect = \"auto\", cmap = colormap, interpolation = \"none\")\n",
    "    plt.colorbar()\n",
    "\n",
    "    plt.xlabel(\"time (s)\")\n",
    "    plt.ylabel(\"frequency (hz)\")\n",
    "    plt.xlim([0, timebins - 1])\n",
    "    plt.ylim([0, freqbins])\n",
    "\n",
    "    xlocs = np.float32(np.linspace(0, timebins - 1, 5))\n",
    "    plt.xticks(xlocs, [\"%.02f\" % l for l in ((xlocs * len(samples) / timebins) + (0.5 * binsize)) / samplerate])\n",
    "    ylocs = np.int16(np.round(np.linspace(0, freqbins - 1, 10)))\n",
    "    plt.yticks(ylocs, [\"%.02f\" % freq[i] for i in ylocs])\n",
    "\n",
    "    if plotpath:\n",
    "        plt.savefig(plotpath, bbox_inches = \"tight\")\n",
    "    else:\n",
    "        plt.show()\n",
    "\n",
    "    plt.clf()\n",
    "\n",
    "\n",
    "plotstft(\"abc.wav\")"
   ]
  }
 ],
 "metadata": {
  "kernelspec": {
   "display_name": "Python 2",
   "language": "python",
   "name": "python2"
  },
  "language_info": {
   "codemirror_mode": {
    "name": "ipython",
    "version": 2
   },
   "file_extension": ".py",
   "mimetype": "text/x-python",
   "name": "python",
   "nbconvert_exporter": "python",
   "pygments_lexer": "ipython2",
   "version": "2.7.13"
  }
 },
 "nbformat": 4,
 "nbformat_minor": 2
}
