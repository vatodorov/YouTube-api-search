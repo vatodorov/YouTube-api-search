{
 "cells": [
  {
   "cell_type": "code",
   "execution_count": 49,
   "metadata": {},
   "outputs": [],
   "source": [
    "import urllib\n",
    "import urllib2\n",
    "from bs4 import BeautifulSoup\n",
    "import time\n",
    "\n",
    "\n",
    "# Include the search term\n",
    "textToSearch = \"games\"\n",
    "p = \"&page=\"\n",
    "\n",
    "# From which search page to download the HTML content\n",
    "# This should eventually become a loop downloading the first 10 pages which YouTube returns \n",
    "page_num = 1\n",
    "\n",
    "\n",
    "### Scraping code starts here \n",
    "query = urllib.quote(textToSearch)\n",
    "url = \"https://www.youtube.com/results?search_query=\" + query + p + str(page_num)\n",
    "response = urllib2.urlopen(url)\n",
    "html = response.read()\n",
    "\n",
    "# Create a BeautifulSoup object\n",
    "soup = BeautifulSoup(html)\n",
    "\n",
    "# Print the whole HTML code from the BeautifulSoup object\n",
    "# print soup.prettify()[0:1000]\n",
    "\n",
    "video_link = []\n",
    "video_title = []\n",
    "video_user = []\n",
    "uploaded_since = []\n",
    "\n",
    "## List the links to the videos and their titles\n",
    "for vids in soup.find_all(attrs = {\"class\":\"yt-uix-tile-link\"}):\n",
    "    video_link = \"https://www.youtube.com\" + vids[\"href\"]\n",
    "    video_title = vids[\"title\"]\n",
    "    print video_link, video_title\n",
    "\n",
    "## Obtain the username and channel\n",
    "for user in soup.find_all(\"a\", attrs = {\"class\":\"g-hovercard\"}):\n",
    "    video_user = \"https://www.youtube.com\" + user[\"href\"]\n",
    "    print video_user\n",
    "    \n",
    "## Get the number of days ago a video was uploaded\n",
    "for days in soup.find_all(\"ul\", attrs = {\"class\":\"yt-lockup-meta-info\"}):\n",
    "    uploaded_since = days.li.get_text()\n",
    "    print uploaded_since\n",
    "\n",
    "\n",
    "\n",
    "## Get the number of views each video has received\n",
    "\n"
   ]
  },
  {
   "cell_type": "code",
   "execution_count": 52,
   "metadata": {},
   "outputs": [
    {
     "name": "stdout",
     "output_type": "stream",
     "text": [
      "https://www.youtube.comhttps://googleads.g.doubleclick.net/aclk?sa=l&ai=CeNefjZKgWeLvBsW5nAS9_5fQC7KnndtLxciXgPAFsJAfEAEg4_uTA2DJppmN7KSAEKABkaiH0gPIAQGoAwGqBJ4BT9BosXWZi3_tolhhEOZvvAUpwOOKASxhmtNLivu7ngNPdFlR8lzfpGowYotq5J7pBtEnJQRDoopzwOvrt1ij-FLVZZ7bUzV6OxjU_2zpE4-RpSchGzFoRgB-tfRlkHz6e7H4VzgGVikeczOkEQvNA1smQclYppMK3YtqUIEWBOv2lEIg5zuBJoMxhq-0yqT9obLoPRniXehQdNG5HIWgBhrIBunCzrapBoAH19f4LagHr8obqAemvhvYBwHSCAcIgGEQARgDsQkm5Bt2kw2pRbgT6AHYEwI&num=1&sig=AOD64_37-D9TrvcKoZSOpO4pbwsbB5Uqfg&ctype=21&video_id=oZ0fRFumvgo&client=ca-pub-6219811747049371&adurl=http://www.youtube.com/watch%3Fv%3DoZ0fRFumvgo A Gem to Slay White Walkers\n",
      "https://www.youtube.com/watch?v=oAT1kWxJfOI Mario Party 9 - All Mini Games\n",
      "https://www.youtube.com/watch?v=eXxfA8IY8Zc Trial Xtreme 4 - Motor Bike Games  - Motocross Racing - Video Games For Kids\n",
      "https://www.youtube.com/watch?v=VPN8PRZ_YsI Subway Surfers - Official Trailer by SYBO Games\n",
      "https://www.youtube.com/watch?v=ILJmufDh-Mg Mario Party 9 - All Mini-Games\n",
      "https://www.youtube.com/watch?v=TJucP2Y-k9E PLAYING INAPPROPRIATE KID GAMES!\n",
      "https://www.youtube.com/watch?v=o9kr9ZhydK0 The Amazing Spider-Man 2 Video Game - TASM2 suit free roam\n",
      "https://www.youtube.com/watch?v=-5xdTlgaaaw Game of Thrones: Season 7 Finale Preview (HBO)\n",
      "https://www.youtube.com/watch?v=cZe9qlm2ii8 Things get heated between Malaysia and Gilas Pilipinas! | SEA Games 2017\n",
      "https://www.youtube.com/watch?v=xoxuNNe-PWc Free Games VS Paid Games\n",
      "https://www.youtube.com/watch?v=MxHLkIAbu-8 Athletics Session 7 Finals | 29th SEA Games 2017\n",
      "https://www.youtube.com/watch?v=AaIWUYVIMLU Mobile Games: Manung Hutna 18 August 2017\n",
      "https://www.youtube.com/watch?v=zs7xO5P3Az4 Coldplay's Game of Thrones: The Musical (Full 12-minute version)\n",
      "https://www.youtube.com/channel/UCOpNcN46UbXVtpKMrmU4Abg Gaming\n",
      "https://www.youtube.com/watch?v=AIye1EG0oJU Badminton ğŸ¸ Womens Team finals Thailand ğŸ‡¹ğŸ‡­ vs ğŸ‡²ğŸ‡¾ Malaysia | 29th SEA Games 2017\n",
      "https://www.youtube.com/watch?v=LOLM6czMzds Tom and Jerry | The Truce Hurts (1948) - (Jerry Games)\n",
      "https://www.youtube.com/watch?v=ZShDx1qj2xk Swimming Finals | 29th SEA Games 2017\n",
      "https://www.youtube.com/watch?v=ngAl3IqnMjc Video Games Live Concert at gamescom 2017 | August 24\n",
      "https://www.youtube.com/watch?v=nLWaXRIzqLA Thailand vs Indonesia / Women's Volleyball SEA Games 2017\n",
      "https://www.youtube.com/watch?v=KMgqMOgdJRQ WEIRDEST GAME EVER MADE!! (Plug and Play Funny Moments)\n",
      "https://www.youtube.com/watch?v=JJDIPXDkMu0 All Upcoming OPEN WORLD Games Of 2017 - 2018 And Beyond\n",
      "https://www.youtube.com/user/jewelrytelevision\n",
      "https://www.youtube.com/user/PokemaniacNate\n",
      "https://www.youtube.com/user/BreefoortGameChannel\n",
      "https://www.youtube.com/channel/UC8KQmWcnjlbhg3DqXmtFTvQ\n",
      "https://www.youtube.com/user/NintendoWiiMovies\n",
      "https://www.youtube.com/user/JellyYT\n",
      "https://www.youtube.com/user/GameUnboxingReviews\n",
      "https://www.youtube.com/user/GameofThrones\n",
      "https://www.youtube.com/channel/UCXDG9ue-emCN8Ad3h7lERqQ\n",
      "https://www.youtube.com/channel/UChHo4UZLy-pUqoEz-xVXYxg\n",
      "https://www.youtube.com/user/SingaporeSports\n",
      "https://www.youtube.com/user/ImpcatNews\n",
      "https://www.youtube.com/user/ColdplayVEVO\n",
      "https://www.youtube.com/channel/UCOpNcN46UbXVtpKMrmU4Abg\n",
      "https://www.youtube.com/channel/UCOpNcN46UbXVtpKMrmU4Abg\n",
      "https://www.youtube.com/user/SingaporeSports\n",
      "https://www.youtube.com/channel/UCMMH1rhmAwpkccopF1EnfkQ\n",
      "https://www.youtube.com/user/SingaporeSports\n",
      "https://www.youtube.com/user/blizzard\n",
      "https://www.youtube.com/channel/UC4L28R1fTWCn2EH1XLsW4Yw\n",
      "https://www.youtube.com/user/JellyYT\n",
      "https://www.youtube.com/channel/UCcH3D_e9fzxvf1ELkSeVSLQ\n",
      "989 views\n",
      "1 year ago\n",
      "8 months ago\n",
      "1 year ago\n",
      "4 years ago\n",
      "6 months ago\n",
      "3 years ago\n",
      "4 days ago\n",
      "2 days ago\n",
      "4 days ago\n",
      "Streamed 10 hours ago\n",
      "1 week ago\n",
      "2 years ago\n",
      "Streamed 1 day ago\n",
      "4 days ago\n",
      "Streamed 5 hours ago\n",
      "Streamed 1 day ago\n",
      "2 days ago\n",
      "1 year ago\n",
      "1 week ago\n"
     ]
    }
   ],
   "source": []
  },
  {
   "cell_type": "code",
   "execution_count": 54,
   "metadata": {},
   "outputs": [
    {
     "ename": "ValueError",
     "evalue": "If using all scalar values, you must pass an index",
     "output_type": "error",
     "traceback": [
      "\u001b[1;31m---------------------------------------------------------------------------\u001b[0m",
      "\u001b[1;31mValueError\u001b[0m                                Traceback (most recent call last)",
      "\u001b[1;32m<ipython-input-54-6a9fdfe9afce>\u001b[0m in \u001b[0;36m<module>\u001b[1;34m()\u001b[0m\n\u001b[0;32m      5\u001b[0m      \u001b[1;34m'video_title'\u001b[0m\u001b[1;33m:\u001b[0m \u001b[0mvideo_title\u001b[0m\u001b[1;33m,\u001b[0m\u001b[1;33m\u001b[0m\u001b[0m\n\u001b[0;32m      6\u001b[0m      \u001b[1;34m'video_user'\u001b[0m\u001b[1;33m:\u001b[0m \u001b[0mvideo_user\u001b[0m\u001b[1;33m,\u001b[0m\u001b[1;33m\u001b[0m\u001b[0m\n\u001b[1;32m----> 7\u001b[1;33m      \u001b[1;34m'uploaded_since'\u001b[0m\u001b[1;33m:\u001b[0m \u001b[0muploaded_since\u001b[0m\u001b[1;33m\u001b[0m\u001b[0m\n\u001b[0m\u001b[0;32m      8\u001b[0m     })\n",
      "\u001b[1;32mC:\\Users\\bre49823\\AppData\\Local\\Continuum\\Anaconda2\\lib\\site-packages\\pandas\\core\\frame.pyc\u001b[0m in \u001b[0;36m__init__\u001b[1;34m(self, data, index, columns, dtype, copy)\u001b[0m\n\u001b[0;32m    273\u001b[0m                                  dtype=dtype, copy=copy)\n\u001b[0;32m    274\u001b[0m         \u001b[1;32melif\u001b[0m \u001b[0misinstance\u001b[0m\u001b[1;33m(\u001b[0m\u001b[0mdata\u001b[0m\u001b[1;33m,\u001b[0m \u001b[0mdict\u001b[0m\u001b[1;33m)\u001b[0m\u001b[1;33m:\u001b[0m\u001b[1;33m\u001b[0m\u001b[0m\n\u001b[1;32m--> 275\u001b[1;33m             \u001b[0mmgr\u001b[0m \u001b[1;33m=\u001b[0m \u001b[0mself\u001b[0m\u001b[1;33m.\u001b[0m\u001b[0m_init_dict\u001b[0m\u001b[1;33m(\u001b[0m\u001b[0mdata\u001b[0m\u001b[1;33m,\u001b[0m \u001b[0mindex\u001b[0m\u001b[1;33m,\u001b[0m \u001b[0mcolumns\u001b[0m\u001b[1;33m,\u001b[0m \u001b[0mdtype\u001b[0m\u001b[1;33m=\u001b[0m\u001b[0mdtype\u001b[0m\u001b[1;33m)\u001b[0m\u001b[1;33m\u001b[0m\u001b[0m\n\u001b[0m\u001b[0;32m    276\u001b[0m         \u001b[1;32melif\u001b[0m \u001b[0misinstance\u001b[0m\u001b[1;33m(\u001b[0m\u001b[0mdata\u001b[0m\u001b[1;33m,\u001b[0m \u001b[0mma\u001b[0m\u001b[1;33m.\u001b[0m\u001b[0mMaskedArray\u001b[0m\u001b[1;33m)\u001b[0m\u001b[1;33m:\u001b[0m\u001b[1;33m\u001b[0m\u001b[0m\n\u001b[0;32m    277\u001b[0m             \u001b[1;32mimport\u001b[0m \u001b[0mnumpy\u001b[0m\u001b[1;33m.\u001b[0m\u001b[0mma\u001b[0m\u001b[1;33m.\u001b[0m\u001b[0mmrecords\u001b[0m \u001b[1;32mas\u001b[0m \u001b[0mmrecords\u001b[0m\u001b[1;33m\u001b[0m\u001b[0m\n",
      "\u001b[1;32mC:\\Users\\bre49823\\AppData\\Local\\Continuum\\Anaconda2\\lib\\site-packages\\pandas\\core\\frame.pyc\u001b[0m in \u001b[0;36m_init_dict\u001b[1;34m(self, data, index, columns, dtype)\u001b[0m\n\u001b[0;32m    409\u001b[0m             \u001b[0marrays\u001b[0m \u001b[1;33m=\u001b[0m \u001b[1;33m[\u001b[0m\u001b[0mdata\u001b[0m\u001b[1;33m[\u001b[0m\u001b[0mk\u001b[0m\u001b[1;33m]\u001b[0m \u001b[1;32mfor\u001b[0m \u001b[0mk\u001b[0m \u001b[1;32min\u001b[0m \u001b[0mkeys\u001b[0m\u001b[1;33m]\u001b[0m\u001b[1;33m\u001b[0m\u001b[0m\n\u001b[0;32m    410\u001b[0m \u001b[1;33m\u001b[0m\u001b[0m\n\u001b[1;32m--> 411\u001b[1;33m         \u001b[1;32mreturn\u001b[0m \u001b[0m_arrays_to_mgr\u001b[0m\u001b[1;33m(\u001b[0m\u001b[0marrays\u001b[0m\u001b[1;33m,\u001b[0m \u001b[0mdata_names\u001b[0m\u001b[1;33m,\u001b[0m \u001b[0mindex\u001b[0m\u001b[1;33m,\u001b[0m \u001b[0mcolumns\u001b[0m\u001b[1;33m,\u001b[0m \u001b[0mdtype\u001b[0m\u001b[1;33m=\u001b[0m\u001b[0mdtype\u001b[0m\u001b[1;33m)\u001b[0m\u001b[1;33m\u001b[0m\u001b[0m\n\u001b[0m\u001b[0;32m    412\u001b[0m \u001b[1;33m\u001b[0m\u001b[0m\n\u001b[0;32m    413\u001b[0m     \u001b[1;32mdef\u001b[0m \u001b[0m_init_ndarray\u001b[0m\u001b[1;33m(\u001b[0m\u001b[0mself\u001b[0m\u001b[1;33m,\u001b[0m \u001b[0mvalues\u001b[0m\u001b[1;33m,\u001b[0m \u001b[0mindex\u001b[0m\u001b[1;33m,\u001b[0m \u001b[0mcolumns\u001b[0m\u001b[1;33m,\u001b[0m \u001b[0mdtype\u001b[0m\u001b[1;33m=\u001b[0m\u001b[0mNone\u001b[0m\u001b[1;33m,\u001b[0m \u001b[0mcopy\u001b[0m\u001b[1;33m=\u001b[0m\u001b[0mFalse\u001b[0m\u001b[1;33m)\u001b[0m\u001b[1;33m:\u001b[0m\u001b[1;33m\u001b[0m\u001b[0m\n",
      "\u001b[1;32mC:\\Users\\bre49823\\AppData\\Local\\Continuum\\Anaconda2\\lib\\site-packages\\pandas\\core\\frame.pyc\u001b[0m in \u001b[0;36m_arrays_to_mgr\u001b[1;34m(arrays, arr_names, index, columns, dtype)\u001b[0m\n\u001b[0;32m   5592\u001b[0m     \u001b[1;31m# figure out the index, if necessary\u001b[0m\u001b[1;33m\u001b[0m\u001b[1;33m\u001b[0m\u001b[0m\n\u001b[0;32m   5593\u001b[0m     \u001b[1;32mif\u001b[0m \u001b[0mindex\u001b[0m \u001b[1;32mis\u001b[0m \u001b[0mNone\u001b[0m\u001b[1;33m:\u001b[0m\u001b[1;33m\u001b[0m\u001b[0m\n\u001b[1;32m-> 5594\u001b[1;33m         \u001b[0mindex\u001b[0m \u001b[1;33m=\u001b[0m \u001b[0mextract_index\u001b[0m\u001b[1;33m(\u001b[0m\u001b[0marrays\u001b[0m\u001b[1;33m)\u001b[0m\u001b[1;33m\u001b[0m\u001b[0m\n\u001b[0m\u001b[0;32m   5595\u001b[0m     \u001b[1;32melse\u001b[0m\u001b[1;33m:\u001b[0m\u001b[1;33m\u001b[0m\u001b[0m\n\u001b[0;32m   5596\u001b[0m         \u001b[0mindex\u001b[0m \u001b[1;33m=\u001b[0m \u001b[0m_ensure_index\u001b[0m\u001b[1;33m(\u001b[0m\u001b[0mindex\u001b[0m\u001b[1;33m)\u001b[0m\u001b[1;33m\u001b[0m\u001b[0m\n",
      "\u001b[1;32mC:\\Users\\bre49823\\AppData\\Local\\Continuum\\Anaconda2\\lib\\site-packages\\pandas\\core\\frame.pyc\u001b[0m in \u001b[0;36mextract_index\u001b[1;34m(data)\u001b[0m\n\u001b[0;32m   5631\u001b[0m \u001b[1;33m\u001b[0m\u001b[0m\n\u001b[0;32m   5632\u001b[0m         \u001b[1;32mif\u001b[0m \u001b[1;32mnot\u001b[0m \u001b[0mindexes\u001b[0m \u001b[1;32mand\u001b[0m \u001b[1;32mnot\u001b[0m \u001b[0mraw_lengths\u001b[0m\u001b[1;33m:\u001b[0m\u001b[1;33m\u001b[0m\u001b[0m\n\u001b[1;32m-> 5633\u001b[1;33m             raise ValueError('If using all scalar values, you must pass'\n\u001b[0m\u001b[0;32m   5634\u001b[0m                              ' an index')\n\u001b[0;32m   5635\u001b[0m \u001b[1;33m\u001b[0m\u001b[0m\n",
      "\u001b[1;31mValueError\u001b[0m: If using all scalar values, you must pass an index"
     ]
    }
   ],
   "source": [
    "import pandas as pd\n",
    "\n",
    "df = pd.DataFrame(\n",
    "    {'video_link': video_link,\n",
    "     'video_title': video_title,\n",
    "     'video_user': video_user,\n",
    "     'uploaded_since': uploaded_since\n",
    "    })\n"
   ]
  },
  {
   "cell_type": "code",
   "execution_count": 74,
   "metadata": {},
   "outputs": [],
   "source": [
    "import numpy as np\n",
    "\n",
    "df = pd.DataFrame(np.column_stack([video_link, video_title, video_user, uploaded_since]))"
   ]
  },
  {
   "cell_type": "code",
   "execution_count": 79,
   "metadata": {},
   "outputs": [
    {
     "data": {
      "text/plain": [
       "0    1\n",
       "1    1\n",
       "2    1\n",
       "3    1\n",
       "dtype: int64"
      ]
     },
     "execution_count": 79,
     "metadata": {},
     "output_type": "execute_result"
    }
   ],
   "source": [
    "df.head(n = 5)\n",
    "df.count()"
   ]
  },
  {
   "cell_type": "code",
   "execution_count": null,
   "metadata": {
    "collapsed": true
   },
   "outputs": [],
   "source": []
  }
 ],
 "metadata": {
  "kernelspec": {
   "display_name": "Python 2",
   "language": "python",
   "name": "python2"
  },
  "language_info": {
   "codemirror_mode": {
    "name": "ipython",
    "version": 2
   },
   "file_extension": ".py",
   "mimetype": "text/x-python",
   "name": "python",
   "nbconvert_exporter": "python",
   "pygments_lexer": "ipython2",
   "version": "2.7.13"
  }
 },
 "nbformat": 4,
 "nbformat_minor": 2
}
