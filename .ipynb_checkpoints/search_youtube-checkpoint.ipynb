{
 "cells": [
  {
   "cell_type": "code",
   "execution_count": 160,
   "metadata": {},
   "outputs": [],
   "source": [
    "import urllib\n",
    "import urllib2\n",
    "from bs4 import BeautifulSoup\n",
    "import time\n",
    "\n",
    "# suzanita+lucifer; suzanita+kaskata; луцифер+буда; сузанита+луцифер; amulet+biz;\n",
    "\n",
    "# Include the search term. Multiple terms should be separated with a \"+\" (no spaces)\n",
    "textToSearch = \"сузанита+луцифер\"\n",
    "\n",
    "# Initialize empty lists for the data I'll be collecting - videos' links, titles, uploader, and number of days since upload\n",
    "video_link = []\n",
    "video_title = []\n",
    "video_user = []\n",
    "uploaded_since = []\n",
    "video_views = []\n",
    "search_term = []\n",
    "\n",
    "\n",
    "## Search loop\n",
    "# This should eventually become a loop downloading the first 5 pages which YouTube returns \n",
    "for page_num in range(1, 11):\n",
    "\n",
    "    # Create a search query and download the HTML code \n",
    "    query = urllib.quote(textToSearch)\n",
    "    url = \"https://www.youtube.com/results?search_query=\" + query + \"&page=\" + str(page_num)\n",
    "    response = urllib2.urlopen(url)\n",
    "    html = response.read().decode('utf-8')\n",
    "\n",
    "    # Create a BeautifulSoup object\n",
    "    soup = BeautifulSoup(html)\n",
    "\n",
    "    # Print the whole HTML code from the BeautifulSoup object\n",
    "    # print soup.prettify()[0:1000]\n",
    "\n",
    "    ## List the links to the videos and their titles\n",
    "    for vids in soup.find_all(attrs = {\"class\": \"yt-uix-tile-link\"}):\n",
    "        video_link.append(\"https://www.youtube.com\" + vids[\"href\"])\n",
    "        video_title.append(vids[\"title\"])\n",
    "\n",
    "    ## Obtain the username and channel\n",
    "    for user in soup.find_all(\"a\", attrs = {\"class\": \"g-hovercard\"}):\n",
    "        video_user.append(\"https://www.youtube.com\" + user[\"href\"])\n",
    "\n",
    "    ## Get the number of days ago a video was uploaded\n",
    "    for stats in soup.find_all(\"ul\", attrs = {\"class\": \"yt-lockup-meta-info\"}):\n",
    "        try:\n",
    "            uploaded_since.append(stats.li.get_text())\n",
    "            video_views.append(stats.li.next_sibling.get_text())\n",
    "        except:\n",
    "            uploaded_since.append(\"No Data\")\n",
    "            video_views.append(\"No Data\")\n",
    "\n",
    "\n",
    "# Add the search term that was used\n",
    "search_term = [textToSearch] * len(video_link)\n",
    "\n",
    "\n",
    "## Create a dataframe with the video links, titles, username and number of views\n",
    "final_combined_df = pd.DataFrame(list(zip(video_link, video_title, video_views, search_term)),\n",
    "                                 columns = [\"video_link\", \"video_title\", \"video_views\", \"search_term\"])\n",
    "final_combined_df.head(10)\n",
    "\n",
    "## Write to a CSV on Google Drive\n",
    "final_combined_df.to_csv((\"C:/Users/bre49823/Google Drive/VideoSearch/videos_links_searchterm_\" + textToSearch + \".csv\"), sep = ',', encoding = 'utf-8')"
   ]
  },
  {
   "cell_type": "code",
   "execution_count": 153,
   "metadata": {},
   "outputs": [
    {
     "data": {
      "text/plain": [
       "(200, 200, 200, 227, 298)"
      ]
     },
     "execution_count": 153,
     "metadata": {},
     "output_type": "execute_result"
    }
   ],
   "source": [
    "len(video_link), len(video_title), len(video_views), len(video_user), len(uploaded_since)"
   ]
  },
  {
   "cell_type": "code",
   "execution_count": null,
   "metadata": {
    "collapsed": true
   },
   "outputs": [],
   "source": []
  }
 ],
 "metadata": {
  "kernelspec": {
   "display_name": "Python 2",
   "language": "python",
   "name": "python2"
  },
  "language_info": {
   "codemirror_mode": {
    "name": "ipython",
    "version": 2
   },
   "file_extension": ".py",
   "mimetype": "text/x-python",
   "name": "python",
   "nbconvert_exporter": "python",
   "pygments_lexer": "ipython2",
   "version": "2.7.13"
  }
 },
 "nbformat": 4,
 "nbformat_minor": 2
}
