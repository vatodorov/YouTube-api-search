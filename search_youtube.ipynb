{
 "cells": [
  {
   "cell_type": "code",
   "execution_count": 55,
   "metadata": {},
   "outputs": [
    {
     "name": "stdout",
     "output_type": "stream",
     "text": [
      "https://www.youtube.com/results?search_query=lucifer%2Bsuzanita&page=1 \n",
      "\n",
      "<ul class=\"yt-lockup-meta-info\"><li>5 days ago</li><li>447 views</li></ul>\n",
      "<ul class=\"yt-lockup-meta-info\"><li>3 weeks ago</li><li>2,379 views</li></ul>\n",
      "<ul class=\"yt-lockup-meta-info\"><li>1 month ago</li><li>290,207 views</li></ul>\n",
      "<ul class=\"yt-lockup-meta-info\"><li><a class=\"yt-uix-sessionlink spf-link \" data-sessionlink=\"itct=CEEQ2zAYAyITCP2fkcLs7tUCFdDInAodm_IG6ij0JA\" href=\"/playlist?list=PLLEVw1b7W0wrxK7c2X_YpsAaykLs0Dd-b\">View full playlist (6 videos)</a></li></ul>\n",
      "<ul class=\"yt-lockup-meta-info\"><li>1 week ago</li><li>151 views</li></ul>\n",
      "<ul class=\"yt-lockup-meta-info\"><li>1 month ago</li><li>2,970 views</li></ul>\n",
      "<ul class=\"yt-lockup-meta-info\"><li><a class=\"yt-uix-sessionlink spf-link \" data-sessionlink=\"itct=CD4Q2zAYBiITCP2fkcLs7tUCFdDInAodm_IG6ij0JA\" href=\"/playlist?list=PLLEVw1b7W0wq8X_Ga0HKvBuQKy-HXgGtk\">View full playlist (7 videos)</a></li></ul>\n",
      "<ul class=\"yt-lockup-meta-info\"><li><a class=\"yt-uix-sessionlink spf-link \" data-sessionlink=\"itct=CD0Q2zAYByITCP2fkcLs7tUCFdDInAodm_IG6ij0JA\" href=\"/playlist?list=PLLEVw1b7W0wrDmVYlO2ntcoy3wAJwUUvO\">View full playlist (8 videos)</a></li></ul>\n",
      "<ul class=\"yt-lockup-meta-info\"><li>2 weeks ago</li><li>22 views</li></ul>\n",
      "<ul class=\"yt-lockup-meta-info\"><li><a class=\"yt-uix-sessionlink spf-link \" data-sessionlink=\"itct=CDsQ2zAYCSITCP2fkcLs7tUCFdDInAodm_IG6ij0JA\" href=\"/playlist?list=PLYF-KB4Nug9_jcjsCjFJGG5Z5eMHN1RhR\">View full playlist (22 videos)</a></li></ul>\n",
      "<ul class=\"yt-lockup-meta-info\"><li>4 weeks ago</li><li>70 views</li></ul>\n",
      "<ul class=\"yt-lockup-meta-info\"><li>1 month ago</li><li>13,499 views</li></ul>\n",
      "<ul class=\"yt-lockup-meta-info\"><li><a class=\"yt-uix-sessionlink spf-link \" data-sessionlink=\"itct=CDgQ2zAYDCITCP2fkcLs7tUCFdDInAodm_IG6ij0JA\" href=\"/playlist?list=PLLEVw1b7W0woTFDFMxIw3SU8BHTNfqEgu\">View full playlist (13 videos)</a></li></ul>\n",
      "<ul class=\"yt-lockup-meta-info\"><li>2 weeks ago</li><li>1,347 views</li></ul>\n",
      "<ul class=\"yt-lockup-meta-info\"><li>3 weeks ago</li><li>232 views</li></ul>\n",
      "<ul class=\"yt-lockup-meta-info\"><li>3 weeks ago</li><li>363 views</li></ul>\n",
      "<ul class=\"yt-lockup-meta-info\"><li>4 weeks ago</li><li>602 views</li></ul>\n",
      "<ul class=\"yt-lockup-meta-info\"><li>1 month ago</li><li>3,629 views</li></ul>\n",
      "<ul class=\"yt-lockup-meta-info\"><li><a class=\"yt-uix-sessionlink spf-link \" data-sessionlink=\"itct=CDIQ2zAYEiITCP2fkcLs7tUCFdDInAodm_IG6ij0JA\" href=\"/playlist?list=PLLEVw1b7W0wor5SFmKQLoydCCQphuXUM3\">View full playlist (14 videos)</a></li></ul>\n",
      "<ul class=\"yt-lockup-meta-info\"><li><a class=\"yt-uix-sessionlink spf-link \" data-sessionlink=\"itct=CDEQ2zAYEyITCP2fkcLs7tUCFdDInAodm_IG6ij0JA\" href=\"/playlist?list=PLyXhOjJ0yc7hsXcSPPpwRXtZYXOqoSunh\">View full playlist (12 videos)</a></li></ul>\n"
     ]
    }
   ],
   "source": [
    "import urllib\n",
    "import urllib2\n",
    "from bs4 import BeautifulSoup\n",
    "import time\n",
    "\n",
    "\n",
    "textToSearch = \"lucifer+suzanita\"\n",
    "p = \"&page=\"\n",
    "page_num = 1\n",
    "\n",
    "query = urllib.quote(textToSearch)\n",
    "url = \"https://www.youtube.com/results?search_query=\" + query + p + str(page_num)\n",
    "\n",
    "response = urllib2.urlopen(url)\n",
    "html = response.read()\n",
    "soup = BeautifulSoup(html)\n",
    "\n",
    "print url, \"\\n\"\n",
    "time.sleep(1)\n",
    "\n",
    "## Get the links to the videos\n",
    "#for vid in soup.findAll(attrs = {\"class\":\"yt-uix-tile-link\"}):\n",
    "#    video_link = \"https://www.youtube.com\" + vid[\"href\"]\n",
    "#    if len(video_link) < 45:\n",
    "#        print video_link, vid[\"title\"]\n",
    "\n",
    "\n",
    "## Get the username       \n",
    "#for vid in soup.findAll(\"a\", attrs = {\"class\":\"g-hovercard\"}):\n",
    "#    video_link = \"https://www.youtube.com\" + vid[\"href\"]\n",
    "#    print video_link\n",
    "\n",
    "\n",
    "## Get the number of days ago a video was uploaded\n",
    "for vid in soup.findAll(\"ul\", attrs = {\"class\":\"yt-lockup-meta-info\"}):\n",
    "    print vid\n"
   ]
  },
  {
   "cell_type": "code",
   "execution_count": 31,
   "metadata": {},
   "outputs": [
    {
     "data": {
      "text/plain": [
       "43"
      ]
     },
     "execution_count": 31,
     "metadata": {},
     "output_type": "execute_result"
    }
   ],
   "source": [
    "len(\"https://www.youtube.com/watch?v=LDr7d4VJhAw\")"
   ]
  },
  {
   "cell_type": "code",
   "execution_count": null,
   "metadata": {
    "collapsed": true
   },
   "outputs": [],
   "source": []
  }
 ],
 "metadata": {
  "kernelspec": {
   "display_name": "Python [conda env:py27]",
   "language": "python",
   "name": "conda-env-py27-py"
  },
  "language_info": {
   "codemirror_mode": {
    "name": "ipython",
    "version": 2
   },
   "file_extension": ".py",
   "mimetype": "text/x-python",
   "name": "python",
   "nbconvert_exporter": "python",
   "pygments_lexer": "ipython2",
   "version": "2.7.13"
  }
 },
 "nbformat": 4,
 "nbformat_minor": 2
}
